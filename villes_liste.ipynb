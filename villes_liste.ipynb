{
 "cells": [
  {
   "cell_type": "code",
   "execution_count": 36,
   "id": "f5dfcddc",
   "metadata": {},
   "outputs": [],
   "source": [
    "import pandas as pd"
   ]
  },
  {
   "cell_type": "code",
   "execution_count": 37,
   "id": "2c9ae10d",
   "metadata": {},
   "outputs": [
    {
     "name": "stderr",
     "output_type": "stream",
     "text": [
      "C:\\Users\\Maël\\AppData\\Local\\Temp\\ipykernel_19300\\3314462223.py:1: DtypeWarning: Columns (1,12,14,16,23,24) have mixed types. Specify dtype option on import or set low_memory=False.\n",
      "  villes = pd.read_csv(\"communes-france-2025.csv\")\n"
     ]
    }
   ],
   "source": [
    "villes = pd.read_csv(\"communes-france-2025.csv\")\n",
    "villes = villes[['code_insee', 'nom_standard', 'reg_code', 'reg_nom', 'dep_code', 'dep_nom','latitude_centre','longitude_centre']]\n"
   ]
  },
  {
   "cell_type": "code",
   "execution_count": 43,
   "id": "f05377c3",
   "metadata": {},
   "outputs": [
    {
     "data": {
      "text/plain": [
       "array([22, 29, 35, 44, 49, 53, 56, 72, 85], dtype=int64)"
      ]
     },
     "execution_count": 43,
     "metadata": {},
     "output_type": "execute_result"
    }
   ],
   "source": [
    "villes = villes[~villes['dep_code'].isin([\"2A\",\"2B\"])]\n",
    "villes['dep_code'] = villes['dep_code'].astype('int64')\n",
    "villes_bret = villes[villes['dep_code'].isin([22,29,35,56,44,49,53,72,85])]\n",
    "villes_bret[\"dep_code\"].unique()\n"
   ]
  },
  {
   "cell_type": "code",
   "execution_count": 44,
   "id": "4db4b2b9",
   "metadata": {},
   "outputs": [],
   "source": [
    "villes_bret.to_csv(\"villes_bretagne.csv\",encoding = \"utf-8-sig\", index = False)"
   ]
  },
  {
   "cell_type": "code",
   "execution_count": null,
   "id": "54de77bf",
   "metadata": {},
   "outputs": [],
   "source": []
  }
 ],
 "metadata": {
  "kernelspec": {
   "display_name": "base",
   "language": "python",
   "name": "python3"
  },
  "language_info": {
   "codemirror_mode": {
    "name": "ipython",
    "version": 3
   },
   "file_extension": ".py",
   "mimetype": "text/x-python",
   "name": "python",
   "nbconvert_exporter": "python",
   "pygments_lexer": "ipython3",
   "version": "3.12.4"
  }
 },
 "nbformat": 4,
 "nbformat_minor": 5
}
